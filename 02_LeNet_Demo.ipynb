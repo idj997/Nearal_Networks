{
 "cells": [
  {
   "cell_type": "code",
   "execution_count": 1,
   "metadata": {
    "executionInfo": {
     "elapsed": 15063,
     "status": "ok",
     "timestamp": 1706621736175,
     "user": {
      "displayName": "Paulo Rauber",
      "userId": "08697591328641962840"
     },
     "user_tz": 0
    },
    "id": "gKJRukyjTeTR"
   },
   "outputs": [],
   "source": [
    "%matplotlib inline\n",
    "import matplotlib.pyplot as plt\n",
    "import torch\n",
    "import torchvision"
   ]
  },
  {
   "cell_type": "markdown",
   "metadata": {
    "id": "UxStOsDRlLy6"
   },
   "source": [
    "# Implementing LeNet\n",
    "\n",
    "* In 1998, **LeNet** was among the first published convolutional neural networks to gather wide attention for its performance on computer vision tasks. In this lab session, you will use high-level PyTorch functionalities to implement the LeNet convolutional neural network.\n",
    "\n",
    "* You will use the [fashion MNIST](https://github.com/zalandoresearch/fashion-mnist) dataset, which is composed of labeled images of clothes and accessories.\n",
    "\n",
    "* The following function is used to load the dataset. You don't need to understand it for now.\n"
   ]
  },
  {
   "cell_type": "code",
   "execution_count": null,
   "metadata": {
    "id": "Dg7DFApZlW95"
   },
   "outputs": [],
   "source": [
    "# You don't need to understand this function for now.\n",
    "def load_data_fashion_mnist(batch_size, resize=None):\n",
    "    \"\"\"Download the Fashion-MNIST dataset and then load it into memory.\"\"\"\n",
    "    trans = [torchvision.transforms.ToTensor()]\n",
    "    if resize:\n",
    "        trans.insert(0, torchvision.transforms.Resize(resize))\n",
    "    trans = torchvision.transforms.Compose(trans)\n",
    "    mnist_train = torchvision.datasets.FashionMNIST(\n",
    "        root=\"../data\", train=True, transform=trans, download=True)\n",
    "    mnist_test = torchvision.datasets.FashionMNIST(\n",
    "        root=\"../data\", train=False, transform=trans, download=True)\n",
    "    return (torch.utils.data.DataLoader(mnist_train, batch_size, shuffle=True,\n",
    "                            num_workers=2),\n",
    "            torch.utils.data.DataLoader(mnist_test, batch_size, shuffle=False,\n",
    "                            num_workers=2))"
   ]
  },
  {
   "cell_type": "code",
   "execution_count": null,
   "metadata": {
    "id": "VKwzFubplY_E"
   },
   "outputs": [],
   "source": [
    "batch_size = 256 # Defines the batch size\n",
    "train_iter, test_iter = load_data_fashion_mnist(batch_size) # Loads the fashion MNIST dataset. `train_iter` and `test_iter` are `DataLoader` objects."
   ]
  },
  {
   "cell_type": "code",
   "execution_count": null,
   "metadata": {
    "colab": {
     "base_uri": "https://localhost:8080/"
    },
    "executionInfo": {
     "elapsed": 545,
     "status": "ok",
     "timestamp": 1705574852902,
     "user": {
      "displayName": "Paulo Rauber",
      "userId": "08697591328641962840"
     },
     "user_tz": 0
    },
    "id": "7eyZ9QkdlbXJ",
    "outputId": "94d5afd6-ebee-43cb-b419-48a1b9f7d3fb"
   },
   "outputs": [
    {
     "name": "stdout",
     "output_type": "stream",
     "text": [
      "torch.Size([256, 1, 28, 28])\n",
      "torch.Size([256])\n"
     ]
    }
   ],
   "source": [
    "X, y = next(iter(train_iter)) # Requests the first training batch\n",
    "print(X.size()) # 256 images per batch. Each image is represented by a 1 x 28 x 28 tensor (number of channels x height x width). The images are grayscale, so there is a single channel.\n",
    "print(y.size()) # 256 targets. Each target is a number between 0 and 9. The classification problem has 10 clases."
   ]
  },
  {
   "cell_type": "markdown",
   "metadata": {
    "id": "vM8eOumLl_g_"
   },
   "source": [
    "* The following code displays some images from the first training batch.\n"
   ]
  },
  {
   "cell_type": "code",
   "execution_count": null,
   "metadata": {
    "colab": {
     "base_uri": "https://localhost:8080/",
     "height": 257
    },
    "executionInfo": {
     "elapsed": 43,
     "status": "ok",
     "timestamp": 1705574852903,
     "user": {
      "displayName": "Paulo Rauber",
      "userId": "08697591328641962840"
     },
     "user_tz": 0
    },
    "id": "ozCDXF68mBGH",
    "outputId": "f9419a88-fc95-4d0e-cf89-f42552ed3c88"
   },
   "outputs": [
    {
     "name": "stdout",
     "output_type": "stream",
     "text": [
      "\n",
      "Image 0 (top):\n",
      "\n"
     ]
    },
    {
     "data": {
      "image/png": "[encoded data removed]",
      "text/plain": [
       "<PIL.Image.Image image mode=RGB size=28x28>"
      ]
     },
     "metadata": {},
     "output_type": "display_data"
    },
    {
     "name": "stdout",
     "output_type": "stream",
     "text": [
      "\n",
      "Image 1 (dress):\n",
      "\n"
     ]
    },
    {
     "data": {
      "image/png": "[encoded data removed]",
      "text/plain": [
       "<PIL.Image.Image image mode=RGB size=28x28>"
      ]
     },
     "metadata": {},
     "output_type": "display_data"
    },
    {
     "name": "stdout",
     "output_type": "stream",
     "text": [
      "\n",
      "Image 2 (sandal):\n",
      "\n"
     ]
    },
    {
     "data": {
      "image/png": "[encoded data removed]",
      "text/plain": [
       "<PIL.Image.Image image mode=RGB size=28x28>"
      ]
     },
     "metadata": {},
     "output_type": "display_data"
    }
   ],
   "source": [
    "from google.colab.patches import cv2_imshow\n",
    "\n",
    "class_labels = ['top', 'trouser', 'pullover', 'dress', 'coat', 'sandal', 'shirt', 'sneaker', 'bag', 'boot'] # Pre-defined class labels\n",
    "\n",
    "for i in range(3):\n",
    "    print(f'\\nImage {i} ({class_labels[int(y[i])]}):\\n') # Prints the index `i` and the label associated to the `i`-th image.\n",
    "    cv2_imshow(X[i].numpy().transpose(1, 2, 0) * 255) # Converts and displays the `i`-th image in the batch."
   ]
  },
  {
   "cell_type": "markdown",
   "metadata": {
    "id": "itIp5WK2FkGn"
   },
   "source": [
    "## Architecture\n",
    "\n",
    "* The architecture receives a $1 \\times 28 \\times 28$ image and outputs a vector with $10$ elements.  The following layers are employed:\n",
    "   * A convolutional layer with $6$ kernels, each a $1 \\times 5 \\times 5$ tensor, padding $2$, stride $1$, and a sigmoid activation function. **Output**: a $6 \\times 28 \\times 28$ tensor.\n",
    "   * An average pooling layer with windows of size $2 \\times 2$ and stride $2$. **Output**: a $6 \\times 14 \\times 14$ tensor.\n",
    "   * A convolutional layer with $16$ kernels, each a $6 \\times 5 \\times 5$ tensor, padding $0$, stride $1$, and a sigmoid activation function. **Output**: a $16 \\times 10 \\times 10$ tensor.\n",
    "   * An average pooling layer with windows of size $2 \\times 2$ and stride $2$. **Output**: a $16 \\times 5 \\times 5$ tensor.\n",
    "   * A fully connected layer wih $120$ units and a sigmoid activation function. The input is flatenned into a vector with $16 \\cdot 5 \\cdot 5 = 400$ elements. **Output**: a vector with $120$ elements.\n",
    "   * A fully connected layer with $84$ units and a sigmoid activation function. **Output**: a vector with $84$ elements.\n",
    "   * A fully connected layer with $10$ units and a softmax activation function **Output**: a vector with $10$ elements. *Note: the original LeNet used a so-called Gaussian activation layer, which is currently rarely used.*\n",
    "\n",
    "![LeNet-5 architecture.](https://drive.google.com/uc?export=view&id=1qht6z0oT0TGBYQl-aLiSRhBaPINi4rzE)\n",
    "\n",
    "* The class `torch.nn.Module` requires implementing the method `forward`, which should define the forward pass for a batch of images.\n",
    "    * Because the batch size was set to $256$, a batch of images is represented by a $256 \\times 1 \\times 28 \\times 28$ tensor.\n",
    "    * The method `forward` should compute the $256 \\times 10$ logits matrix $\\mathbf{O}$, not the prediction matrix $\\mathbf{\\hat{Y}} = \\text{softmax}(\\mathbf{O})$. In other words, the last fully connected layer does not need an (explicit) softmax activation function.\n",
    "\n",
    "\n"
   ]
  },
  {
   "cell_type": "code",
   "execution_count": null,
   "metadata": {
    "id": "Qb5aJZHBQ7TZ"
   },
   "outputs": [],
   "source": [
    "class LeNet(torch.nn.Module):\n",
    "    def __init__(self, num_outputs):\n",
    "        super(LeNet, self).__init__()\n",
    "        self.num_outputs = num_outputs\n",
    "\n",
    "        self.Sigmoid = torch.nn.Sigmoid()\n",
    "\n",
    "        self.Convl1 = torch.nn.Conv2d(1, 6, kernel_size=5, padding=2)\n",
    "        self.Avg1 = torch.nn.AvgPool2d(2, stride=2)\n",
    "        self.Convl2 = torch.nn.Conv2d(6, 16, kernel_size=5, padding=0)\n",
    "        self.Avg2 = torch.nn.AvgPool2d(2, stride=2)\n",
    "\n",
    "        self.Flatten = torch.nn.Flatten()\n",
    "        self.Linear1 = torch.nn.Linear(400, 120)\n",
    "        self.Linear2 = torch.nn.Linear(120, 84)\n",
    "        self.Linear3 = torch.nn.Linear(84, self.num_outputs)\n",
    "\n",
    "    def forward(self, x):\n",
    "        out = self.Convl1(x)\n",
    "        out = self.Sigmoid(out)\n",
    "        out = self.Avg1(out)\n",
    "        out = self.Convl2(out)\n",
    "        out = self.Sigmoid(out)\n",
    "        out = self.Avg2(out)\n",
    "        out = self.Flatten(out)\n",
    "        out = self.Linear1(out)\n",
    "        out = self.Sigmoid(out)\n",
    "        out = self.Linear2(out)\n",
    "        out = self.Sigmoid(out)\n",
    "        out = self.Linear3(out)\n",
    "        return out"
   ]
  },
  {
   "cell_type": "code",
   "execution_count": null,
   "metadata": {
    "colab": {
     "base_uri": "https://localhost:8080/"
    },
    "executionInfo": {
     "elapsed": 24,
     "status": "ok",
     "timestamp": 1705574852903,
     "user": {
      "displayName": "Paulo Rauber",
      "userId": "08697591328641962840"
     },
     "user_tz": 0
    },
    "id": "QLQCSd34TeTX",
    "outputId": "deafaeca-78fb-424c-a163-2e9402e5ef3b"
   },
   "outputs": [
    {
     "data": {
      "text/plain": [
       "LeNet(\n",
       "  (Sigmoid): Sigmoid()\n",
       "  (Convl1): Conv2d(1, 6, kernel_size=(5, 5), stride=(1, 1), padding=(2, 2))\n",
       "  (Avg1): AvgPool2d(kernel_size=2, stride=2, padding=0)\n",
       "  (Convl2): Conv2d(6, 16, kernel_size=(5, 5), stride=(1, 1))\n",
       "  (Avg2): AvgPool2d(kernel_size=2, stride=2, padding=0)\n",
       "  (Flatten): Flatten(start_dim=1, end_dim=-1)\n",
       "  (Linear1): Linear(in_features=400, out_features=120, bias=True)\n",
       "  (Linear2): Linear(in_features=120, out_features=84, bias=True)\n",
       "  (Linear3): Linear(in_features=84, out_features=10, bias=True)\n",
       ")"
      ]
     },
     "execution_count": 7,
     "metadata": {},
     "output_type": "execute_result"
    }
   ],
   "source": [
    "# Applies Xavier initialization if the `torch.nn.Module` is `torch.nn.Linear` or `torch.nn.Conv2d`\n",
    "def init_weights(m):\n",
    "    if type(m) == torch.nn.Linear or type(m) == torch.nn.Conv2d:\n",
    "        torch.nn.init.xavier_uniform_(m.weight)\n",
    "\n",
    "num_outputs = 10\n",
    "model = LeNet(num_outputs)\n",
    "model.apply(init_weights) # Applies `init_weights` to every `torch.nn.Module` inside `model`"
   ]
  },
  {
   "cell_type": "markdown",
   "metadata": {
    "id": "enMGpCPUnVpp"
   },
   "source": [
    "## Loss function\n",
    "\n",
    "* The *convolutional neural network* defined above computes the logits matrix $\\mathbf{O}$, not the prediction matrix $\\mathbf{\\hat{Y}} = \\text{softmax}(\\mathbf{O})$.\n",
    "\n",
    "* This is because PyTorch provides a class called `CrossEntropyLoss` that implements the desired cross entropy loss but requires a logits matrix $\\mathbf{O}$ instead of the prediction matrix $\\mathbf{\\hat{Y}}$.\n",
    "\n",
    "* The class `CrossEntropyLoss` implements the cross entropy loss in a way that avoids numerical instabilities that would result from a naive implementation."
   ]
  },
  {
   "cell_type": "code",
   "execution_count": null,
   "metadata": {
    "id": "ycyT2k8yndlD"
   },
   "outputs": [],
   "source": [
    "loss = torch.nn.CrossEntropyLoss()"
   ]
  },
  {
   "cell_type": "markdown",
   "metadata": {
    "id": "LT3SAqBknhsE"
   },
   "source": [
    "## Optimization Algorithm\n",
    "\n",
    "* We will employ minibatch stochastic gradient descent with a learning rate of $0.9$ as the optimization algorithm.\n",
    "\n",
    "* Because we implemented a subclass of `torch.nn.Module`, the model parameters can be accessed through the method `parameters`."
   ]
  },
  {
   "cell_type": "code",
   "execution_count": null,
   "metadata": {
    "id": "MVho-LM7nlvF"
   },
   "outputs": [],
   "source": [
    "lr = 0.9\n",
    "optimizer = torch.optim.SGD(model.parameters(), lr=lr)"
   ]
  },
  {
   "cell_type": "markdown",
   "metadata": {
    "id": "eFkOv_qjnuJ8"
   },
   "source": [
    "## Evaluation\n",
    "\n",
    "* Recall that the highest element of a logits vector determines which class will be predicted.\n",
    "\n",
    "* We can use this to compute the number of correct predictions per batch."
   ]
  },
  {
   "cell_type": "code",
   "execution_count": null,
   "metadata": {
    "colab": {
     "base_uri": "https://localhost:8080/"
    },
    "executionInfo": {
     "elapsed": 19,
     "status": "ok",
     "timestamp": 1705574852905,
     "user": {
      "displayName": "Paulo Rauber",
      "userId": "08697591328641962840"
     },
     "user_tz": 0
    },
    "id": "cKKl2JzsnwET",
    "outputId": "a23e67d3-35ce-4c02-a240-323faa78b6a4"
   },
   "outputs": [
    {
     "name": "stdout",
     "output_type": "stream",
     "text": [
      "tensor(1.)\n"
     ]
    }
   ],
   "source": [
    "def correct(logits, y):\n",
    "    y_hat = logits.argmax(axis=1) # Finds the column with the highest value for each row of `logits`.\n",
    "    return (y_hat == y).float().sum() # Computes the number of times that `y_hat` and `y` match.\n",
    "\n",
    "# Example: 1 correct classification,\n",
    "y = torch.tensor([2, 1])\n",
    "logits = torch.tensor([[0.1, 0.3, 0.6], [0.5, 0.2, 0.3]])\n",
    "print(correct(logits, y))"
   ]
  },
  {
   "cell_type": "markdown",
   "metadata": {
    "id": "HP2mwthnnzF1"
   },
   "source": [
    "* We can use the previous function to compute the accuracy of our model in a given dataset by accumulating the number of correct predictions across batches and then dividing that number by the number of examples in the dataset."
   ]
  },
  {
   "cell_type": "code",
   "execution_count": null,
   "metadata": {
    "id": "HjoPQnFgn0hC"
   },
   "outputs": [],
   "source": [
    "def evaluate_metric(model, data_iter, metric):\n",
    "    \"\"\"Compute the average `metric` of the model on a dataset.\"\"\"\n",
    "    c = torch.tensor(0.)\n",
    "    n = torch.tensor(0.)\n",
    "    for X, y in data_iter:\n",
    "        logits = model(X)\n",
    "        c += metric(logits, y)\n",
    "        n += len(y)\n",
    "\n",
    "    return c / n"
   ]
  },
  {
   "cell_type": "code",
   "execution_count": null,
   "metadata": {
    "colab": {
     "base_uri": "https://localhost:8080/"
    },
    "executionInfo": {
     "elapsed": 10614,
     "status": "ok",
     "timestamp": 1705574863506,
     "user": {
      "displayName": "Paulo Rauber",
      "userId": "08697591328641962840"
     },
     "user_tz": 0
    },
    "id": "pAPDS76cn2Bh",
    "outputId": "5a3696a0-7e7c-40fe-954f-d63b89c179d0"
   },
   "outputs": [
    {
     "name": "stdout",
     "output_type": "stream",
     "text": [
      "Training accuracy: 0.10000000149011612. Testing accuracy: 0.10000000149011612.\n"
     ]
    }
   ],
   "source": [
    "print(f'Training accuracy: {evaluate_metric(model, train_iter, correct)}. Testing accuracy: {evaluate_metric(model, test_iter, correct)}.')"
   ]
  },
  {
   "cell_type": "markdown",
   "metadata": {
    "id": "qdRoGih_n7Mc"
   },
   "source": [
    "## Training\n",
    "\n",
    "* The following code implements the training loop for the convolutional neural network.\n",
    "\n",
    "* The training/testing dataset accuracy is displayed after each epoch and stored for plotting.\n",
    "\n",
    "* **Important:** it is a methodological mistake to compute performance metrics on the *testing* dataset for the purposes of hyperparameter tuning. A *validation* dataset should be used for that purpose, even if it requires splitting the original training dataset into a training dataset and a validation dataset. The *test* dataset should only be used to evaluate the performance of the final set of hyperparameters, in order to assess generalization."
   ]
  },
  {
   "cell_type": "code",
   "execution_count": null,
   "metadata": {
    "colab": {
     "background_save": true,
     "base_uri": "https://localhost:8080/"
    },
    "id": "8Jp4ycDIn_X8",
    "outputId": "bdc2687b-bee8-4ecb-bc4e-ed3df61bf82c"
   },
   "outputs": [
    {
     "name": "stdout",
     "output_type": "stream",
     "text": [
      "\n",
      "Epoch 1/20.\n",
      "Training accuracy: 0.1000666692852974. Testing accuracy: 0.10010000318288803.\n",
      "\n",
      "Epoch 2/20.\n",
      "Training accuracy: 0.5920000076293945. Testing accuracy: 0.5927000045776367.\n",
      "\n",
      "Epoch 3/20.\n",
      "Training accuracy: 0.6699000000953674. Testing accuracy: 0.6656000018119812.\n",
      "\n",
      "Epoch 4/20.\n",
      "Training accuracy: 0.7182333469390869. Testing accuracy: 0.7153000235557556.\n",
      "\n",
      "Epoch 5/20.\n",
      "Training accuracy: 0.7523166537284851. Testing accuracy: 0.744700014591217.\n",
      "\n",
      "Epoch 6/20.\n",
      "Training accuracy: 0.7738333344459534. Testing accuracy: 0.7623000144958496.\n",
      "\n",
      "Epoch 7/20.\n",
      "Training accuracy: 0.8049333095550537. Testing accuracy: 0.8004000186920166.\n",
      "\n",
      "Epoch 8/20.\n",
      "Training accuracy: 0.8150500059127808. Testing accuracy: 0.8044000267982483.\n",
      "\n",
      "Epoch 9/20.\n",
      "Training accuracy: 0.7628166675567627. Testing accuracy: 0.7569000124931335.\n",
      "\n",
      "Epoch 10/20.\n",
      "Training accuracy: 0.8149666786193848. Testing accuracy: 0.7993000149726868.\n",
      "\n",
      "Epoch 11/20.\n",
      "Training accuracy: 0.8088333606719971. Testing accuracy: 0.7964000105857849.\n",
      "\n",
      "Epoch 12/20.\n",
      "Training accuracy: 0.8465333580970764. Testing accuracy: 0.8356999754905701.\n",
      "\n",
      "Epoch 13/20.\n",
      "Training accuracy: 0.8421499729156494. Testing accuracy: 0.8310999870300293.\n",
      "\n",
      "Epoch 14/20.\n",
      "Training accuracy: 0.8347499966621399. Testing accuracy: 0.8255000114440918.\n",
      "\n",
      "Epoch 15/20.\n",
      "Training accuracy: 0.8325499892234802. Testing accuracy: 0.8215000033378601.\n",
      "\n",
      "Epoch 16/20.\n",
      "Training accuracy: 0.8425999879837036. Testing accuracy: 0.8324000239372253.\n",
      "\n",
      "Epoch 17/20.\n",
      "Training accuracy: 0.8341166377067566. Testing accuracy: 0.8234999775886536.\n",
      "\n",
      "Epoch 18/20.\n",
      "Training accuracy: 0.8544333577156067. Testing accuracy: 0.842199981212616.\n",
      "\n",
      "Epoch 19/20.\n",
      "Training accuracy: 0.8477500081062317. Testing accuracy: 0.8342000246047974.\n",
      "\n",
      "Epoch 20/20.\n",
      "Training accuracy: 0.8701666593551636. Testing accuracy: 0.8575000166893005.\n"
     ]
    },
    {
     "data": {
      "image/png": "[encoded data removed]",
      "text/plain": [
       "<Figure size 640x480 with 1 Axes>"
      ]
     },
     "metadata": {},
     "output_type": "display_data"
    },
    {
     "data": {
      "image/png": "[encoded data removed]",
      "text/plain": [
       "<Figure size 640x480 with 1 Axes>"
      ]
     },
     "metadata": {},
     "output_type": "display_data"
    }
   ],
   "source": [
    "losses = [] # Stores the loss for each training batch\n",
    "train_accs = [] # Stores the training accuracy after each epoch\n",
    "test_accs = [] # Stores the testing accuracy after each epoch\n",
    "\n",
    "num_epochs = 20\n",
    "for epoch in range(num_epochs):\n",
    "    print(f'\\nEpoch {epoch + 1}/{num_epochs}.')\n",
    "    for X, y in train_iter:\n",
    "        logits = model(X) # Computes the logits for the batch of images `X`\n",
    "\n",
    "        l = loss(logits, y) # Computes the loss given the `logits` and the class vector `y`\n",
    "        optimizer.zero_grad() # Zeroes the gradients stored in the model parameters\n",
    "        l.backward() # Computes the gradient of the loss `l` with respect to the model parameters\n",
    "\n",
    "        optimizer.step() # Updates the model parameters based on the gradients stored inside them\n",
    "\n",
    "        losses.append(float(l)) # Stores the loss for this batch\n",
    "\n",
    "    with torch.no_grad(): # Computing performance metrics does not require gradients\n",
    "        train_accs.append(evaluate_metric(model, train_iter, correct))\n",
    "        test_accs.append(evaluate_metric(model, test_iter, correct))\n",
    "        print(f'Training accuracy: {train_accs[-1]}. Testing accuracy: {test_accs[-1]}.') # Computes and displays training/testing dataset accuracy.\n",
    "\n",
    "plt.plot(losses) # Plots the loss for each training batch\n",
    "plt.xlabel('Training batch')\n",
    "plt.ylabel('Cross entropy loss')\n",
    "plt.show()\n",
    "\n",
    "plt.plot(train_accs, label='Training accuracy')\n",
    "plt.plot(test_accs, label='Testing accuracy')\n",
    "plt.legend(loc='best')\n",
    "plt.xlabel('Epoch')\n",
    "plt.show()"
   ]
  }
 ],
 "metadata": {
  "celltoolbar": "Slideshow",
  "colab": {
   "provenance": [],
   "toc_visible": true
  },
  "kernelspec": {
   "display_name": "Python 3 (ipykernel)",
   "language": "python",
   "name": "python3"
  },
  "language_info": {
   "codemirror_mode": {
    "name": "ipython",
    "version": 3
   },
   "file_extension": ".py",
   "mimetype": "text/x-python",
   "name": "python",
   "nbconvert_exporter": "python",
   "pygments_lexer": "ipython3",
   "version": "3.11.7"
  }
 },
 "nbformat": 4,
 "nbformat_minor": 4
}
