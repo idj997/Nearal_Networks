{
 "cells": [
  {
   "cell_type": "code",
   "execution_count": null,
   "metadata": {
    "id": "GXQTc_W7YFdd"
   },
   "outputs": [],
   "source": [
    "%matplotlib inline\n",
    "import matplotlib.pyplot as plt\n",
    "import time"
   ]
  },
  {
   "cell_type": "code",
   "execution_count": null,
   "metadata": {
    "colab": {
     "base_uri": "https://localhost:8080/"
    },
    "executionInfo": {
     "elapsed": 6161,
     "status": "ok",
     "timestamp": 1706977661049,
     "user": {
      "displayName": "Paulo Rauber",
      "userId": "08697591328641962840"
     },
     "user_tz": 0
    },
    "id": "P972v29oYIl0",
    "outputId": "a046e101-afd2-4bab-a8bf-626836d3bae0"
   },
   "outputs": [
    {
     "name": "stdout",
     "output_type": "stream",
     "text": [
      "Using cuda.\n"
     ]
    }
   ],
   "source": [
    "import torch\n",
    "device = torch.device('cuda' if torch.cuda.is_available() else 'cpu')\n",
    "print(f'Using {device}.')"
   ]
  },
  {
   "cell_type": "markdown",
   "metadata": {
    "id": "WcK5OqnLYkpK"
   },
   "source": [
    "# Implementing ResNet-18\n",
    "\n",
    "* ResNets (residual networks) won the ImageNet Large Scale Visual Recognition Challenge in 2015.\n",
    "\n",
    "* We will use the [fashion MNIST](https://github.com/zalandoresearch/fashion-mnist) dataset, which is composed of labeled images of clothes and accessories.\n",
    "\n",
    "* We will resize the images in the dataset in order to preserve the ResNet-18 architecture, which was developed to classify colored images with $224 \\times 224$ pixels.\n",
    "\n",
    "* The following function is used to load the dataset and resize the images. You don't need to understand it for now.\n",
    "\n"
   ]
  },
  {
   "cell_type": "code",
   "execution_count": null,
   "metadata": {
    "id": "0qNQhcPoZE7k"
   },
   "outputs": [],
   "source": [
    "import torchvision\n",
    "\n",
    "# You don't need to understand this function for now.\n",
    "def load_data_fashion_mnist(batch_size, resize=None):\n",
    "    \"\"\"Download the Fashion-MNIST dataset and then load it into memory.\"\"\"\n",
    "    trans = [torchvision.transforms.ToTensor()]\n",
    "    if resize:\n",
    "        trans.insert(0, torchvision.transforms.Resize(resize))\n",
    "    trans = torchvision.transforms.Compose(trans)\n",
    "\n",
    "    mnist_train = torchvision.datasets.FashionMNIST(root=\"../data\", train=True, transform=trans, download=True)\n",
    "    mnist_test = torchvision.datasets.FashionMNIST(root=\"../data\", train=False, transform=trans, download=True)\n",
    "\n",
    "    return (torch.utils.data.DataLoader(mnist_train, batch_size, shuffle=True, num_workers=2, pin_memory=True), # Using pinned memory\n",
    "            torch.utils.data.DataLoader(mnist_test, batch_size, shuffle=False, num_workers=2, pin_memory=True)) # Using pinned memory"
   ]
  },
  {
   "cell_type": "markdown",
   "metadata": {
    "id": "XymaaSGLZImj"
   },
   "source": [
    "* Storing data in [pinned memory](https://developer.nvidia.com/blog/how-optimize-data-transfers-cuda-cc/) speeds up training in a GPU."
   ]
  },
  {
   "cell_type": "code",
   "execution_count": null,
   "metadata": {
    "colab": {
     "base_uri": "https://localhost:8080/"
    },
    "executionInfo": {
     "elapsed": 7293,
     "status": "ok",
     "timestamp": 1706977671964,
     "user": {
      "displayName": "Paulo Rauber",
      "userId": "08697591328641962840"
     },
     "user_tz": 0
    },
    "id": "Rp8Zoo3DZLUv",
    "outputId": "c99d4eee-fb30-4edb-8f47-502e1d6921a7"
   },
   "outputs": [
    {
     "name": "stdout",
     "output_type": "stream",
     "text": [
      "Downloading http://fashion-mnist.s3-website.eu-central-1.amazonaws.com/train-images-idx3-ubyte.gz\n",
      "Downloading http://fashion-mnist.s3-website.eu-central-1.amazonaws.com/train-images-idx3-ubyte.gz to ../data/FashionMNIST/raw/train-images-idx3-ubyte.gz\n"
     ]
    },
    {
     "name": "stderr",
     "output_type": "stream",
     "text": [
      "100%|██████████| 26421880/26421880 [00:02<00:00, 11104643.26it/s]\n"
     ]
    },
    {
     "name": "stdout",
     "output_type": "stream",
     "text": [
      "Extracting ../data/FashionMNIST/raw/train-images-idx3-ubyte.gz to ../data/FashionMNIST/raw\n",
      "\n",
      "Downloading http://fashion-mnist.s3-website.eu-central-1.amazonaws.com/train-labels-idx1-ubyte.gz\n",
      "Downloading http://fashion-mnist.s3-website.eu-central-1.amazonaws.com/train-labels-idx1-ubyte.gz to ../data/FashionMNIST/raw/train-labels-idx1-ubyte.gz\n"
     ]
    },
    {
     "name": "stderr",
     "output_type": "stream",
     "text": [
      "100%|██████████| 29515/29515 [00:00<00:00, 198494.84it/s]\n"
     ]
    },
    {
     "name": "stdout",
     "output_type": "stream",
     "text": [
      "Extracting ../data/FashionMNIST/raw/train-labels-idx1-ubyte.gz to ../data/FashionMNIST/raw\n",
      "\n",
      "Downloading http://fashion-mnist.s3-website.eu-central-1.amazonaws.com/t10k-images-idx3-ubyte.gz\n",
      "Downloading http://fashion-mnist.s3-website.eu-central-1.amazonaws.com/t10k-images-idx3-ubyte.gz to ../data/FashionMNIST/raw/t10k-images-idx3-ubyte.gz\n"
     ]
    },
    {
     "name": "stderr",
     "output_type": "stream",
     "text": [
      "100%|██████████| 4422102/4422102 [00:01<00:00, 3711694.91it/s]\n"
     ]
    },
    {
     "name": "stdout",
     "output_type": "stream",
     "text": [
      "Extracting ../data/FashionMNIST/raw/t10k-images-idx3-ubyte.gz to ../data/FashionMNIST/raw\n",
      "\n",
      "Downloading http://fashion-mnist.s3-website.eu-central-1.amazonaws.com/t10k-labels-idx1-ubyte.gz\n",
      "Downloading http://fashion-mnist.s3-website.eu-central-1.amazonaws.com/t10k-labels-idx1-ubyte.gz to ../data/FashionMNIST/raw/t10k-labels-idx1-ubyte.gz\n"
     ]
    },
    {
     "name": "stderr",
     "output_type": "stream",
     "text": [
      "100%|██████████| 5148/5148 [00:00<00:00, 6439688.93it/s]"
     ]
    },
    {
     "name": "stdout",
     "output_type": "stream",
     "text": [
      "Extracting ../data/FashionMNIST/raw/t10k-labels-idx1-ubyte.gz to ../data/FashionMNIST/raw\n",
      "\n"
     ]
    },
    {
     "name": "stderr",
     "output_type": "stream",
     "text": [
      "\n"
     ]
    }
   ],
   "source": [
    "batch_size = 128 # Defines the batch size\n",
    "train_iter, test_iter = load_data_fashion_mnist(batch_size, resize=(224, 224)) # Loads the fashion MNIST dataset. `train_iter` and `test_iter` are `DataLoader` objects."
   ]
  },
  {
   "cell_type": "code",
   "execution_count": null,
   "metadata": {
    "colab": {
     "base_uri": "https://localhost:8080/"
    },
    "executionInfo": {
     "elapsed": 554,
     "status": "ok",
     "timestamp": 1706977672509,
     "user": {
      "displayName": "Paulo Rauber",
      "userId": "08697591328641962840"
     },
     "user_tz": 0
    },
    "id": "L6aHHH8KZOy1",
    "outputId": "49124c89-1ff4-4fcc-c045-df9f99be5e73"
   },
   "outputs": [
    {
     "name": "stdout",
     "output_type": "stream",
     "text": [
      "torch.Size([128, 1, 224, 224])\n",
      "torch.Size([128])\n"
     ]
    }
   ],
   "source": [
    "X, y = next(iter(train_iter)) # Requests the first training batch\n",
    "print(X.size()) # 128 images per batch. Each image is represented by a 1 x 224 x 224 tensor (number of channels x height x width). The images are grayscale, so there is a single channel.\n",
    "print(y.size()) # 128 targets. Each target is a number between 0 and 9. The classification problem has 10 clases."
   ]
  },
  {
   "cell_type": "markdown",
   "metadata": {
    "id": "-LUj6olTZQfq"
   },
   "source": [
    "* The following code displays some images from the first training batch.\n"
   ]
  },
  {
   "cell_type": "code",
   "execution_count": null,
   "metadata": {
    "colab": {
     "base_uri": "https://localhost:8080/",
     "height": 845
    },
    "executionInfo": {
     "elapsed": 665,
     "status": "ok",
     "timestamp": 1706977673167,
     "user": {
      "displayName": "Paulo Rauber",
      "userId": "08697591328641962840"
     },
     "user_tz": 0
    },
    "id": "CK2Ozj5bZSM4",
    "outputId": "34e49eb4-b772-44cc-ee45-5f8498c51cd8"
   },
   "outputs": [
    {
     "name": "stdout",
     "output_type": "stream",
     "text": [
      "\n",
      "Image 0 (dress):\n",
      "\n"
     ]
    },
    {
     "data": {
      "image/png": "[encoded data removed]",
      "text/plain": [
       "<PIL.Image.Image image mode=RGB size=224x224>"
      ]
     },
     "metadata": {},
     "output_type": "display_data"
    },
    {
     "name": "stdout",
     "output_type": "stream",
     "text": [
      "\n",
      "Image 1 (boot):\n",
      "\n"
     ]
    },
    {
     "data": {
      "image/png": "[encoded data removed]",
      "text/plain": [
       "<PIL.Image.Image image mode=RGB size=224x224>"
      ]
     },
     "metadata": {},
     "output_type": "display_data"
    },
    {
     "name": "stdout",
     "output_type": "stream",
     "text": [
      "\n",
      "Image 2 (pullover):\n",
      "\n"
     ]
    },
    {
     "data": {
      "image/png": "[encoded data removed]",
      "text/plain": [
       "<PIL.Image.Image image mode=RGB size=224x224>"
      ]
     },
     "metadata": {},
     "output_type": "display_data"
    }
   ],
   "source": [
    "from google.colab.patches import cv2_imshow\n",
    "\n",
    "class_labels = ['top', 'trouser', 'pullover', 'dress', 'coat', 'sandal', 'shirt', 'sneaker', 'bag', 'boot'] # Pre-defined class labels\n",
    "\n",
    "for i in range(3):\n",
    "    print(f'\\nImage {i} ({class_labels[int(y[i])]}):\\n') # Prints the index `i` and the label associated to the `i`-th image.\n",
    "    cv2_imshow(X[i].numpy().transpose(1, 2, 0) * 255) # Converts and displays the `i`-th image in the batch."
   ]
  },
  {
   "cell_type": "markdown",
   "metadata": {
    "id": "amcUkyGhZf3g"
   },
   "source": [
    "## ResNet block\n",
    "\n",
    "* The constructor for `ResNetBlock` should receive the number of input channels $c_i$, the number of output channels $c_o$, and the stride $s$.\n",
    "\n",
    "* If $c_i = c_o$ and $s = 1$, the input image and the output image have the same shape $c_i \\times h_i \\times w_i$. In that case:\n",
    "    1. The input image goes through a convolutional layer with $c_o$ convolutional filters, each with a $3 \\times 3$ window, padding $1$, and stride $s$.\n",
    "    2. The resulting image goes through a batch normalization layer for images and a rectified linear activation function.\n",
    "    3. The resulting image goes through another convolutional layer with $c_o$ convolutional filters, each with a $3 \\times 3$ window, padding $1$, and stride $1$.\n",
    "    4. The resulting image goes through another batch normalization layer for images.\n",
    "    5. The resulting image is added to the input image (skip connection).\n",
    "    6. The resulting image goes through a rectified linear activation function.\n",
    "\n",
    "* If $c_i \\neq c_o$ or $s > 1$, the input image has shape $c_i \\times h_i \\times w_i$ and the output image has shape $c_o \\times \\lceil h_i/s \\rceil \\times \\lceil w_i/s \\rceil$. In that case:\n",
    "    1. The input image goes through the first 4 steps described for the previous case.\n",
    "    2. The input image also goes through a convolutional layer with $c_o$ convolutional filters, each with a $1 \\times 1$ window and stride $s$.\n",
    "    3. The image that results from step 1 is added to the image that results from step 2 (skip connection).\n",
    "    4. The resulting image goes through a rectified linear activation function.\n",
    "\n",
    "![ResNet block.](https://drive.google.com/uc?export=view&id=1yNH83-ndmKY0MAa94M9GNKdQU4OUdYAI)\n",
    "\n",
    "\n"
   ]
  },
  {
   "cell_type": "code",
   "execution_count": null,
   "metadata": {
    "id": "UJ9YUgsRbzjj"
   },
   "outputs": [],
   "source": [
    "# TODO: Implement the class `ResNetBlock`\n",
    "class ResNetBlock(torch.nn.Module):\n",
    "    def __init__(self, input_channels, output_channels, stride=1):\n",
    "        super(ResNetBlock, self).__init__()\n",
    "\n",
    "        self.conv1 = torch.nn.Conv2d(input_channels, output_channels, kernel_size=3, padding=1, stride=stride)\n",
    "        self.bn1 = torch.nn.BatchNorm2d(output_channels)\n",
    "        self.relu1 = torch.nn.ReLU()\n",
    "\n",
    "        self.conv2 = torch.nn.Conv2d(output_channels, output_channels, kernel_size=3, padding=1)\n",
    "        self.bn2 = torch.nn.BatchNorm2d(output_channels)\n",
    "\n",
    "        self.conv3 = None\n",
    "        if (input_channels != output_channels) or (stride != 1):\n",
    "            self.conv3 = torch.nn.Conv2d(input_channels, output_channels, kernel_size=1, stride=stride)\n",
    "\n",
    "        self.relu2 = torch.nn.ReLU()\n",
    "\n",
    "    def forward(self, x):\n",
    "        out = self.conv1(x)\n",
    "        out = self.bn1(out)\n",
    "        out = self.relu1(out)\n",
    "\n",
    "        out = self.conv2(out)\n",
    "        out = self.bn2(out)\n",
    "\n",
    "        if self.conv3:\n",
    "            out += self.conv3(x)\n",
    "        else:\n",
    "            out += x\n",
    "\n",
    "        return self.relu2(out)"
   ]
  },
  {
   "cell_type": "markdown",
   "metadata": {
    "id": "-cIb4NaCiAdg"
   },
   "source": [
    "## Architecture\n",
    "\n",
    "* The constructor of the `ResNetMacroblock` will receive the number of input channels and a boolean variable that indicates whether it is the first macroblock in the ResNet18 architecture (whose output shape matches the input shape).\n",
    "\n",
    "* The following image summarizes the ResNet-18 architecture.\n",
    "\n",
    "![ResNet-18 architecture.](https://drive.google.com/uc?export=view&id=1QTqgZHKRYV_engdzG7ZpsJdRPEzri_ab)\n",
    "\n",
    "* The input image goes through a convolutional layer with $64$ convolutional filters, each with a $7 \\times 7$ window, padding $3$, and stride $2$.\n",
    "\n",
    "* The resulting image goes through a batch normalization layer for images and a rectified linear activation function.\n",
    "\n",
    "* The resulting image goes through a max-pooling layer with $3 \\times 3$ windows, padding $1$, and stride $2$.\n",
    "\n",
    "* The resulting image goes through a sequence of four **ResNet macroblocks**, each of which is composed of $2$ ResNet blocks. In total, there are 8 ResNet blocks.\n",
    "\n",
    "* The first ResNet block in each ResNet macroblock employs stride $2$, which requires the input image to go through a convolutional layer with $1 \\times 1$ windows and stride $2$. Because the input image and the output image will necessarily have different shapes, this block also uses the opportunity to double the number of channels.\n",
    "\n",
    "* Exceptionally, the first ResNet block in the first ResNet macroblock does not employ a convolutional layer with $1 \\times 1$ windows. Therefore, its input image and output image will necessarily have the same shape.\n",
    "\n",
    "* The image resulting from the sequence of four ResNet macroblocks has each of its $512$ channels averaged, resulting in a $512$-dimensional vector that goes through a single fully connected layer to produce a $q$-dimensional vector of logits, where $q$ is the number of classes in the classification problem.\n"
   ]
  },
  {
   "cell_type": "code",
   "execution_count": null,
   "metadata": {
    "id": "EDW3Jd_mdxdh"
   },
   "outputs": [],
   "source": [
    "# TODO: Implement the class `ResNetMacroblock`\n",
    "class ResNetMacroblock(torch.nn.Module):\n",
    "    def __init__(self, input_channels, first_macroblock=False):\n",
    "        super(ResNetMacroblock, self).__init__()\n",
    "\n",
    "        s = 1 if first_macroblock else 2\n",
    "\n",
    "        self.rb1 = ResNetBlock(input_channels, input_channels * s, stride=s)\n",
    "        self.rb2 = ResNetBlock(input_channels * s, input_channels * s, stride=1)\n",
    "\n",
    "    def forward(self, x):\n",
    "        out = self.rb1(x)\n",
    "        out = self.rb2(out)\n",
    "        return out"
   ]
  },
  {
   "cell_type": "code",
   "execution_count": null,
   "metadata": {
    "id": "mb6ZCd5Ji5jR"
   },
   "outputs": [],
   "source": [
    "class ResNet18(torch.nn.Module):\n",
    "    def __init__(self, num_outputs):\n",
    "        super(ResNet18, self).__init__()\n",
    "\n",
    "        self.num_outputs = num_outputs\n",
    "\n",
    "        self.conv = torch.nn.Conv2d(1, 64, kernel_size=7, stride=2, padding=3) # Assuming 1 x 224 x 224 input images\n",
    "        self.bn = torch.nn.BatchNorm2d(64)\n",
    "        self.relu = torch.nn.ReLU()\n",
    "        self.maxpool = torch.nn.MaxPool2d(kernel_size=3, stride=2, padding=1)\n",
    "\n",
    "        self.rmb1 = ResNetMacroblock(64, first_macroblock=True)\n",
    "        self.rmb2 = ResNetMacroblock(64)\n",
    "        self.rmb3 = ResNetMacroblock(128)\n",
    "        self.rmb4 = ResNetMacroblock(256)\n",
    "\n",
    "        self.channel_avg = torch.nn.AdaptiveAvgPool2d((1, 1))\n",
    "        self.flatten = torch.nn.Flatten()\n",
    "        self.linear = torch.nn.Linear(512, self.num_outputs)\n",
    "\n",
    "    def forward(self, x):\n",
    "        out = self.conv(x)\n",
    "        out = self.bn(out)\n",
    "        out = self.relu(out)\n",
    "        out = self.maxpool(out)\n",
    "\n",
    "        out = self.rmb1(out)\n",
    "        out = self.rmb2(out)\n",
    "        out = self.rmb3(out)\n",
    "        out = self.rmb4(out)\n",
    "\n",
    "        out = self.channel_avg(out)\n",
    "        out = self.flatten(out)\n",
    "        out = self.linear(out)\n",
    "\n",
    "        return out\n"
   ]
  },
  {
   "cell_type": "code",
   "execution_count": null,
   "metadata": {
    "colab": {
     "base_uri": "https://localhost:8080/"
    },
    "executionInfo": {
     "elapsed": 257,
     "status": "ok",
     "timestamp": 1706977673398,
     "user": {
      "displayName": "Paulo Rauber",
      "userId": "08697591328641962840"
     },
     "user_tz": 0
    },
    "id": "mVm8CigRpT5z",
    "outputId": "355a5611-d7a5-4f52-aaad-e0cb61fa5b43"
   },
   "outputs": [
    {
     "data": {
      "text/plain": [
       "ResNet18(\n",
       "  (conv): Conv2d(1, 64, kernel_size=(7, 7), stride=(2, 2), padding=(3, 3))\n",
       "  (bn): BatchNorm2d(64, eps=1e-05, momentum=0.1, affine=True, track_running_stats=True)\n",
       "  (relu): ReLU()\n",
       "  (maxpool): MaxPool2d(kernel_size=3, stride=2, padding=1, dilation=1, ceil_mode=False)\n",
       "  (rmb1): ResNetMacroblock(\n",
       "    (rb1): ResNetBlock(\n",
       "      (conv1): Conv2d(64, 64, kernel_size=(3, 3), stride=(1, 1), padding=(1, 1))\n",
       "      (bn1): BatchNorm2d(64, eps=1e-05, momentum=0.1, affine=True, track_running_stats=True)\n",
       "      (relu1): ReLU()\n",
       "      (conv2): Conv2d(64, 64, kernel_size=(3, 3), stride=(1, 1), padding=(1, 1))\n",
       "      (bn2): BatchNorm2d(64, eps=1e-05, momentum=0.1, affine=True, track_running_stats=True)\n",
       "      (relu2): ReLU()\n",
       "    )\n",
       "    (rb2): ResNetBlock(\n",
       "      (conv1): Conv2d(64, 64, kernel_size=(3, 3), stride=(1, 1), padding=(1, 1))\n",
       "      (bn1): BatchNorm2d(64, eps=1e-05, momentum=0.1, affine=True, track_running_stats=True)\n",
       "      (relu1): ReLU()\n",
       "      (conv2): Conv2d(64, 64, kernel_size=(3, 3), stride=(1, 1), padding=(1, 1))\n",
       "      (bn2): BatchNorm2d(64, eps=1e-05, momentum=0.1, affine=True, track_running_stats=True)\n",
       "      (relu2): ReLU()\n",
       "    )\n",
       "  )\n",
       "  (rmb2): ResNetMacroblock(\n",
       "    (rb1): ResNetBlock(\n",
       "      (conv1): Conv2d(64, 128, kernel_size=(3, 3), stride=(2, 2), padding=(1, 1))\n",
       "      (bn1): BatchNorm2d(128, eps=1e-05, momentum=0.1, affine=True, track_running_stats=True)\n",
       "      (relu1): ReLU()\n",
       "      (conv2): Conv2d(128, 128, kernel_size=(3, 3), stride=(1, 1), padding=(1, 1))\n",
       "      (bn2): BatchNorm2d(128, eps=1e-05, momentum=0.1, affine=True, track_running_stats=True)\n",
       "      (conv3): Conv2d(64, 128, kernel_size=(1, 1), stride=(2, 2))\n",
       "      (relu2): ReLU()\n",
       "    )\n",
       "    (rb2): ResNetBlock(\n",
       "      (conv1): Conv2d(128, 128, kernel_size=(3, 3), stride=(1, 1), padding=(1, 1))\n",
       "      (bn1): BatchNorm2d(128, eps=1e-05, momentum=0.1, affine=True, track_running_stats=True)\n",
       "      (relu1): ReLU()\n",
       "      (conv2): Conv2d(128, 128, kernel_size=(3, 3), stride=(1, 1), padding=(1, 1))\n",
       "      (bn2): BatchNorm2d(128, eps=1e-05, momentum=0.1, affine=True, track_running_stats=True)\n",
       "      (relu2): ReLU()\n",
       "    )\n",
       "  )\n",
       "  (rmb3): ResNetMacroblock(\n",
       "    (rb1): ResNetBlock(\n",
       "      (conv1): Conv2d(128, 256, kernel_size=(3, 3), stride=(2, 2), padding=(1, 1))\n",
       "      (bn1): BatchNorm2d(256, eps=1e-05, momentum=0.1, affine=True, track_running_stats=True)\n",
       "      (relu1): ReLU()\n",
       "      (conv2): Conv2d(256, 256, kernel_size=(3, 3), stride=(1, 1), padding=(1, 1))\n",
       "      (bn2): BatchNorm2d(256, eps=1e-05, momentum=0.1, affine=True, track_running_stats=True)\n",
       "      (conv3): Conv2d(128, 256, kernel_size=(1, 1), stride=(2, 2))\n",
       "      (relu2): ReLU()\n",
       "    )\n",
       "    (rb2): ResNetBlock(\n",
       "      (conv1): Conv2d(256, 256, kernel_size=(3, 3), stride=(1, 1), padding=(1, 1))\n",
       "      (bn1): BatchNorm2d(256, eps=1e-05, momentum=0.1, affine=True, track_running_stats=True)\n",
       "      (relu1): ReLU()\n",
       "      (conv2): Conv2d(256, 256, kernel_size=(3, 3), stride=(1, 1), padding=(1, 1))\n",
       "      (bn2): BatchNorm2d(256, eps=1e-05, momentum=0.1, affine=True, track_running_stats=True)\n",
       "      (relu2): ReLU()\n",
       "    )\n",
       "  )\n",
       "  (rmb4): ResNetMacroblock(\n",
       "    (rb1): ResNetBlock(\n",
       "      (conv1): Conv2d(256, 512, kernel_size=(3, 3), stride=(2, 2), padding=(1, 1))\n",
       "      (bn1): BatchNorm2d(512, eps=1e-05, momentum=0.1, affine=True, track_running_stats=True)\n",
       "      (relu1): ReLU()\n",
       "      (conv2): Conv2d(512, 512, kernel_size=(3, 3), stride=(1, 1), padding=(1, 1))\n",
       "      (bn2): BatchNorm2d(512, eps=1e-05, momentum=0.1, affine=True, track_running_stats=True)\n",
       "      (conv3): Conv2d(256, 512, kernel_size=(1, 1), stride=(2, 2))\n",
       "      (relu2): ReLU()\n",
       "    )\n",
       "    (rb2): ResNetBlock(\n",
       "      (conv1): Conv2d(512, 512, kernel_size=(3, 3), stride=(1, 1), padding=(1, 1))\n",
       "      (bn1): BatchNorm2d(512, eps=1e-05, momentum=0.1, affine=True, track_running_stats=True)\n",
       "      (relu1): ReLU()\n",
       "      (conv2): Conv2d(512, 512, kernel_size=(3, 3), stride=(1, 1), padding=(1, 1))\n",
       "      (bn2): BatchNorm2d(512, eps=1e-05, momentum=0.1, affine=True, track_running_stats=True)\n",
       "      (relu2): ReLU()\n",
       "    )\n",
       "  )\n",
       "  (channel_avg): AdaptiveAvgPool2d(output_size=(1, 1))\n",
       "  (flatten): Flatten(start_dim=1, end_dim=-1)\n",
       "  (linear): Linear(in_features=512, out_features=10, bias=True)\n",
       ")"
      ]
     },
     "execution_count": 9,
     "metadata": {},
     "output_type": "execute_result"
    }
   ],
   "source": [
    "# Applies Xavier initialization if the `torch.nn.Module` is `torch.nn.Linear` or `torch.nn.Conv2d`\n",
    "def init_weights(m):\n",
    "    if type(m) == torch.nn.Linear or type(m) == torch.nn.Conv2d:\n",
    "        torch.nn.init.xavier_uniform_(m.weight)\n",
    "\n",
    "num_outputs = 10\n",
    "\n",
    "model = ResNet18(10).to(device) # Creates and moves the model to `device`\n",
    "model.apply(init_weights) # Applies `init_weights` to every `torch.nn.Module` inside `model`"
   ]
  },
  {
   "cell_type": "markdown",
   "metadata": {
    "id": "I1bWZuTTpr0-"
   },
   "source": [
    "## Loss function\n"
   ]
  },
  {
   "cell_type": "code",
   "execution_count": null,
   "metadata": {
    "id": "N60NFd7Qpwzu"
   },
   "outputs": [],
   "source": [
    "loss = torch.nn.CrossEntropyLoss()"
   ]
  },
  {
   "cell_type": "markdown",
   "metadata": {
    "id": "EFGyPE1LpynB"
   },
   "source": [
    "## Optimization Algorithm\n"
   ]
  },
  {
   "cell_type": "code",
   "execution_count": null,
   "metadata": {
    "id": "qXHtHHaCpz0f"
   },
   "outputs": [],
   "source": [
    "lr = 0.01\n",
    "optimizer = torch.optim.SGD(model.parameters(), lr=lr)"
   ]
  },
  {
   "cell_type": "markdown",
   "metadata": {
    "id": "3b2yKjBup7tB"
   },
   "source": [
    "## Evaluation\n"
   ]
  },
  {
   "cell_type": "code",
   "execution_count": null,
   "metadata": {
    "colab": {
     "base_uri": "https://localhost:8080/"
    },
    "executionInfo": {
     "elapsed": 8,
     "status": "ok",
     "timestamp": 1706977673717,
     "user": {
      "displayName": "Paulo Rauber",
      "userId": "08697591328641962840"
     },
     "user_tz": 0
    },
    "id": "rwXMQRjtp-fJ",
    "outputId": "9e2e218c-b3ab-4ce8-f12b-e1bb4b7a993d"
   },
   "outputs": [
    {
     "name": "stdout",
     "output_type": "stream",
     "text": [
      "tensor(1.)\n"
     ]
    }
   ],
   "source": [
    "def correct(logits, y):\n",
    "    y_hat = logits.argmax(axis=1) # Finds the column with the highest value for each row of `logits`.\n",
    "    return (y_hat == y).float().sum() # Computes the number of times that `y_hat` and `y` match.\n",
    "\n",
    "# Example: 1 correct classification,\n",
    "y = torch.tensor([2, 1])\n",
    "logits = torch.tensor([[0.1, 0.3, 0.6], [0.5, 0.2, 0.3]])\n",
    "print(correct(logits, y))"
   ]
  },
  {
   "cell_type": "code",
   "execution_count": null,
   "metadata": {
    "id": "3FPKGCJZqAln"
   },
   "outputs": [],
   "source": [
    "def evaluate_metric(model, data_iter, metric):\n",
    "    \"\"\"Compute the average `metric` of the model on a dataset.\"\"\"\n",
    "    c = 0.\n",
    "    n = 0.\n",
    "    for X, y in data_iter:\n",
    "        X, y = X.to(device), y.to(device) # Moves data to `device`\n",
    "        logits = model(X)\n",
    "        c += metric(logits, y)\n",
    "        n += len(y)\n",
    "\n",
    "    return float(c / n)"
   ]
  },
  {
   "cell_type": "code",
   "execution_count": null,
   "metadata": {
    "colab": {
     "base_uri": "https://localhost:8080/"
    },
    "executionInfo": {
     "elapsed": 60642,
     "status": "ok",
     "timestamp": 1706977734355,
     "user": {
      "displayName": "Paulo Rauber",
      "userId": "08697591328641962840"
     },
     "user_tz": 0
    },
    "id": "yqAfGhAlqCmp",
    "outputId": "33b7bd41-5652-44a3-fe86-a06b48dcd846"
   },
   "outputs": [
    {
     "name": "stdout",
     "output_type": "stream",
     "text": [
      "Training accuracy: 0.1438833326101303. Testing accuracy: 0.14379999041557312.\n"
     ]
    }
   ],
   "source": [
    "model.eval() # This is necessary because batch normalization behaves differently between training and evaluation\n",
    "print(f'Training accuracy: {evaluate_metric(model, train_iter, correct)}. Testing accuracy: {evaluate_metric(model, test_iter, correct)}.')"
   ]
  },
  {
   "cell_type": "markdown",
   "metadata": {
    "id": "W-UQzaWlqHDh"
   },
   "source": [
    "* Executing the cell above takes several minutes in a CPU.\n"
   ]
  },
  {
   "cell_type": "markdown",
   "metadata": {
    "id": "qT5e1eiFqTTL"
   },
   "source": [
    "## Training\n",
    "\n",
    "* Training your ResNet18 is optional. If you want to train your ResNet18 using Google Colab, make sure to select a GPU runtime (Runtime > Change Runtime type).\n",
    "\n",
    "* **If you plan on using Google Colab for the programming project without a subscription, you should be very mindful about your GPU usage. For example, only change to a GPU runtime once you are ready to train your model.**\n"
   ]
  },
  {
   "cell_type": "code",
   "execution_count": null,
   "metadata": {
    "colab": {
     "base_uri": "https://localhost:8080/",
     "height": 1000
    },
    "executionInfo": {
     "elapsed": 2224060,
     "status": "ok",
     "timestamp": 1706979958394,
     "user": {
      "displayName": "Paulo Rauber",
      "userId": "08697591328641962840"
     },
     "user_tz": 0
    },
    "id": "oSL5i_VSqUg4",
    "outputId": "90244ebc-a724-4b05-e580-f9651922bac3"
   },
   "outputs": [
    {
     "name": "stdout",
     "output_type": "stream",
     "text": [
      "\n",
      "Epoch 1/10.\n",
      "Training accuracy: 0.8371500372886658. Testing accuracy: 0.8246999979019165. Duration: 223.032s.\n",
      "\n",
      "Epoch 2/10.\n",
      "Training accuracy: 0.8867833614349365. Testing accuracy: 0.8644999861717224. Duration: 222.742s.\n",
      "\n",
      "Epoch 3/10.\n",
      "Training accuracy: 0.8998667001724243. Testing accuracy: 0.8804000020027161. Duration: 222.111s.\n",
      "\n",
      "Epoch 4/10.\n",
      "Training accuracy: 0.9241833686828613. Testing accuracy: 0.8946999907493591. Duration: 222.095s.\n",
      "\n",
      "Epoch 5/10.\n",
      "Training accuracy: 0.9253333210945129. Testing accuracy: 0.8946999907493591. Duration: 222.209s.\n",
      "\n",
      "Epoch 6/10.\n",
      "Training accuracy: 0.8977167010307312. Testing accuracy: 0.8673999905586243. Duration: 222.344s.\n",
      "\n",
      "Epoch 7/10.\n",
      "Training accuracy: 0.916866660118103. Testing accuracy: 0.875499963760376. Duration: 222.186s.\n",
      "\n",
      "Epoch 8/10.\n",
      "Training accuracy: 0.9539666771888733. Testing accuracy: 0.9041000008583069. Duration: 222.110s.\n",
      "\n",
      "Epoch 9/10.\n",
      "Training accuracy: 0.9613666534423828. Testing accuracy: 0.9041000008583069. Duration: 222.219s.\n",
      "\n",
      "Epoch 10/10.\n",
      "Training accuracy: 0.9550833702087402. Testing accuracy: 0.8959999680519104. Duration: 222.290s.\n"
     ]
    },
    {
     "data": {
      "image/png": "[encoded data removed]",
      "text/plain": [
       "<Figure size 640x480 with 1 Axes>"
      ]
     },
     "metadata": {},
     "output_type": "display_data"
    },
    {
     "data": {
      "image/png": "[encoded data removed]",
      "text/plain": [
       "<Figure size 640x480 with 1 Axes>"
      ]
     },
     "metadata": {},
     "output_type": "display_data"
    }
   ],
   "source": [
    "losses = [] # Stores the loss for each training batch\n",
    "train_accs = [] # Stores the training accuracy after each epoch\n",
    "test_accs = [] # Stores the testing accuracy after each epoch\n",
    "\n",
    "num_epochs = 10\n",
    "for epoch in range(num_epochs):\n",
    "    print(f'\\nEpoch {epoch + 1}/{num_epochs}.')\n",
    "    start_time = time.perf_counter()\n",
    "\n",
    "    model.train() # This is necessary because batch normalization behaves differently between training and evaluation\n",
    "\n",
    "    for X, y in train_iter:\n",
    "        X, y = X.to(device), y.to(device) # Moves data to `device`\n",
    "        logits = model(X) # Computes the logits for the batch of images `X`\n",
    "\n",
    "        l = loss(logits, y) # Computes the loss given the `logits` and the class vector `y`\n",
    "        optimizer.zero_grad() # Zeroes the gradients stored in the model parameters\n",
    "        l.backward() # Computes the gradient of the loss `l` with respect to the model parameters\n",
    "\n",
    "        optimizer.step() # Updates the model parameters based on the gradients stored inside them\n",
    "\n",
    "        losses.append(float(l)) # Stores the loss for this batch\n",
    "\n",
    "    with torch.no_grad(): # Computing performance metrics does not require gradients\n",
    "        model.eval() # This is necessary because batch normalization behaves differently between training and evaluation\n",
    "        train_accs.append(evaluate_metric(model, train_iter, correct))\n",
    "        test_accs.append(evaluate_metric(model, test_iter, correct))\n",
    "\n",
    "        end_time = time.perf_counter()\n",
    "\n",
    "        print(f'Training accuracy: {train_accs[-1]}. Testing accuracy: {test_accs[-1]}. Duration: {end_time - start_time:.3f}s.') # Computes and displays training/testing dataset accuracy.\n",
    "\n",
    "plt.plot(losses) # Plots the loss for each training batch\n",
    "plt.xlabel('Training batch')\n",
    "plt.ylabel('Cross entropy loss')\n",
    "plt.show()\n",
    "\n",
    "plt.plot(train_accs, label='Training accuracy')\n",
    "plt.plot(test_accs, label='Testing accuracy')\n",
    "plt.legend(loc='best')\n",
    "plt.xlabel('Epoch')\n",
    "plt.show()"
   ]
  }
 ],
 "metadata": {
  "accelerator": "GPU",
  "celltoolbar": "Slideshow",
  "colab": {
   "gpuType": "T4",
   "provenance": []
  },
  "kernelspec": {
   "display_name": "Python 3 (ipykernel)",
   "language": "python",
   "name": "python3"
  },
  "language_info": {
   "codemirror_mode": {
    "name": "ipython",
    "version": 3
   },
   "file_extension": ".py",
   "mimetype": "text/x-python",
   "name": "python",
   "nbconvert_exporter": "python",
   "pygments_lexer": "ipython3",
   "version": "3.11.7"
  }
 },
 "nbformat": 4,
 "nbformat_minor": 4
}
